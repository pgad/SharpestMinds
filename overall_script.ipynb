{
 "cells": [
  {
   "cell_type": "markdown",
   "metadata": {},
   "source": [
    "# Classifier for Fashion MNIST\n",
    "### Implementing a ResNet-15 finetuning and a simple CNN to classify Fashion MNIST and compare their performances"
   ]
  },
  {
   "cell_type": "code",
   "execution_count": 1,
   "metadata": {
    "collapsed": false
   },
   "outputs": [
    {
     "name": "stderr",
     "output_type": "stream",
     "text": [
      "Using TensorFlow backend.\n"
     ]
    }
   ],
   "source": [
    "#import useful modules here\n",
    "\n",
    "import tensorflow\n",
    "import keras\n",
    "import numpy as np\n",
    "import matplotlib.pyplot as plt\n",
    "from sklearn.model_selection import train_test_split"
   ]
  },
  {
   "cell_type": "code",
   "execution_count": null,
   "metadata": {
    "collapsed": true
   },
   "outputs": [],
   "source": [
    "#load test and train data\n",
    "\n",
    "from load_data import load_csv_as_array\n",
    "test_data = load_csv_as_array(\"fashionmnist/fashion-mnist_test.csv\")\n",
    "train_data = load_csv_as_array(\"fashionmnist/fashion-mnist_train.csv\")\n",
    "\n",
    "#The 0th column contains the label\n",
    "\n",
    "print(type(test_data))\n",
    "\n",
    "test_labels = test_data[:,0]\n",
    "train_labels = train_data[:,0]\n",
    "\n",
    "test_pixels = test_data[:,1:]\n",
    "train_pixels = train_data[:,1:]\n",
    "\n",
    "print(\"There are these many examples in test set:\", test_labels.shape[0])\n",
    "print(\"There are these many examples in train set:\", train_labels.shape[0])\n",
    "print(\"There are these many pixels per example:\", test_pixels.shape[1])"
   ]
  }
 ],
 "metadata": {
  "kernelspec": {
   "display_name": "Python [Root]",
   "language": "python",
   "name": "Python [Root]"
  },
  "language_info": {
   "codemirror_mode": {
    "name": "ipython",
    "version": 3
   },
   "file_extension": ".py",
   "mimetype": "text/x-python",
   "name": "python",
   "nbconvert_exporter": "python",
   "pygments_lexer": "ipython3",
   "version": "3.5.2"
  }
 },
 "nbformat": 4,
 "nbformat_minor": 0
}
