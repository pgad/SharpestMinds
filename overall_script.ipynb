{
 "cells": [
  {
   "cell_type": "markdown",
   "metadata": {},
   "source": [
    "# Classifier for Fashion MNIST\n",
    "### Implementing a ResNet-15 finetuning and a simple CNN to classify Fashion MNIST and compare their performances"
   ]
  },
  {
   "cell_type": "code",
   "execution_count": 1,
   "metadata": {
    "collapsed": false
   },
   "outputs": [
    {
     "name": "stderr",
     "output_type": "stream",
     "text": [
      "Using TensorFlow backend.\n"
     ]
    }
   ],
   "source": [
    "#import useful modules here\n",
    "\n",
    "import tensorflow\n",
    "import keras\n",
    "import numpy as np\n",
    "import matplotlib.pyplot as plt\n",
    "from sklearn.model_selection import train_test_split"
   ]
  },
  {
   "cell_type": "code",
   "execution_count": 5,
   "metadata": {
    "collapsed": false
   },
   "outputs": [
    {
     "name": "stdout",
     "output_type": "stream",
     "text": [
      "There are these many examples in test set: 10000\n",
      "There are these many examples in train set: 60000\n",
      "There are these many pixels per example: 784\n"
     ]
    }
   ],
   "source": [
    "#load test and train data\n",
    "\n",
    "from load_data import load_csv_as_array\n",
    "test_data = load_csv_as_array(\"fashion-mnist_test.csv\")\n",
    "train_data = load_csv_as_array(\"fashion-mnist_train.csv\")\n",
    "\n",
    "#The 0th column contains the label, 0th row contains column descriptions\n",
    "#Discard the 0th row\n",
    "#Separate the data along the 0th column\n",
    "#convert string to float\n",
    "\n",
    "#labels\n",
    "\n",
    "testY = test_data[1:,0]\n",
    "testY.astype(np.float)\n",
    "\n",
    "trainY = train_data[1:,0]\n",
    "trainY.astype(np.float)\n",
    "\n",
    "#Scale the data between 0-1\n",
    "\n",
    "testX = test_data[1:,1:]\n",
    "testX.astype(np.float)\n",
    "\n",
    "trainX = train_data[1:,1:]\n",
    "trainX.astype(np.float)\n",
    "\n",
    "print(\"There are these many examples in test set:\", test_labels.shape[0])\n",
    "print(\"There are these many examples in train set:\", train_labels.shape[0])\n",
    "print(\"There are these many pixels per example:\", test_pixels.shape[1])"
   ]
  },
  {
   "cell_type": "code",
   "execution_count": 4,
   "metadata": {
    "collapsed": false
   },
   "outputs": [
    {
     "name": "stdout",
     "output_type": "stream",
     "text": [
      "['0' '1' '2' ..., '8' '8' '1']\n"
     ]
    }
   ],
   "source": [
    "print(testY)"
   ]
  },
  {
   "cell_type": "code",
   "execution_count": null,
   "metadata": {
    "collapsed": true
   },
   "outputs": [],
   "source": []
  }
 ],
 "metadata": {
  "anaconda-cloud": {},
  "kernelspec": {
   "display_name": "Python [Root]",
   "language": "python",
   "name": "Python [Root]"
  },
  "language_info": {
   "codemirror_mode": {
    "name": "ipython",
    "version": 3
   },
   "file_extension": ".py",
   "mimetype": "text/x-python",
   "name": "python",
   "nbconvert_exporter": "python",
   "pygments_lexer": "ipython3",
   "version": "3.5.2"
  }
 },
 "nbformat": 4,
 "nbformat_minor": 0
}
